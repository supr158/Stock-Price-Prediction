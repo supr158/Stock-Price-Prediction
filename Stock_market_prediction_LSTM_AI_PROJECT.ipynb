{
  "nbformat": 4,
  "nbformat_minor": 0,
  "metadata": {
    "colab": {
      "name": "Stock_market_prediction_LSTM_AI_PROJECT.ipynb",
      "provenance": []
    },
    "kernelspec": {
      "name": "python3",
      "display_name": "Python 3"
    },
    "language_info": {
      "name": "python"
    }
  },
  "cells": [
    {
      "cell_type": "code",
      "metadata": {
        "id": "PmGCQ2ZYFghv"
      },
      "source": [
        "import pandas as pd"
      ],
      "execution_count": null,
      "outputs": []
    },
    {
      "cell_type": "code",
      "metadata": {
        "id": "H8NK1spDUoZQ"
      },
      "source": [
        "#Reading csv file containing Apple's stock market data\n",
        "df=pd.read_csv('AAPL.csv')"
      ],
      "execution_count": null,
      "outputs": []
    },
    {
      "cell_type": "code",
      "metadata": {
        "colab": {
          "base_uri": "https://localhost:8080/",
          "height": 313
        },
        "id": "u3Ha2JHyU0Ao",
        "outputId": "33fc6e53-66b0-4299-d105-14bc3113bf5f"
      },
      "source": [
        "df.head()"
      ],
      "execution_count": null,
      "outputs": [
        {
          "output_type": "execute_result",
          "data": {
            "text/html": [
              "<div>\n",
              "<style scoped>\n",
              "    .dataframe tbody tr th:only-of-type {\n",
              "        vertical-align: middle;\n",
              "    }\n",
              "\n",
              "    .dataframe tbody tr th {\n",
              "        vertical-align: top;\n",
              "    }\n",
              "\n",
              "    .dataframe thead th {\n",
              "        text-align: right;\n",
              "    }\n",
              "</style>\n",
              "<table border=\"1\" class=\"dataframe\">\n",
              "  <thead>\n",
              "    <tr style=\"text-align: right;\">\n",
              "      <th></th>\n",
              "      <th>symbol</th>\n",
              "      <th>date</th>\n",
              "      <th>close</th>\n",
              "      <th>high</th>\n",
              "      <th>low</th>\n",
              "      <th>open</th>\n",
              "      <th>volume</th>\n",
              "      <th>adjClose</th>\n",
              "      <th>adjHigh</th>\n",
              "      <th>adjLow</th>\n",
              "      <th>adjOpen</th>\n",
              "      <th>adjVolume</th>\n",
              "      <th>divCash</th>\n",
              "      <th>splitFactor</th>\n",
              "    </tr>\n",
              "  </thead>\n",
              "  <tbody>\n",
              "    <tr>\n",
              "      <th>0</th>\n",
              "      <td>AAPL</td>\n",
              "      <td>2016-09-28 00:00:00+00:00</td>\n",
              "      <td>113.95</td>\n",
              "      <td>114.64</td>\n",
              "      <td>113.43</td>\n",
              "      <td>113.69</td>\n",
              "      <td>29641085</td>\n",
              "      <td>26.711906</td>\n",
              "      <td>26.873654</td>\n",
              "      <td>26.590009</td>\n",
              "      <td>26.650958</td>\n",
              "      <td>118564340</td>\n",
              "      <td>0.0</td>\n",
              "      <td>1.0</td>\n",
              "    </tr>\n",
              "    <tr>\n",
              "      <th>1</th>\n",
              "      <td>AAPL</td>\n",
              "      <td>2016-09-29 00:00:00+00:00</td>\n",
              "      <td>112.18</td>\n",
              "      <td>113.80</td>\n",
              "      <td>111.80</td>\n",
              "      <td>113.16</td>\n",
              "      <td>35886990</td>\n",
              "      <td>26.296987</td>\n",
              "      <td>26.676744</td>\n",
              "      <td>26.207908</td>\n",
              "      <td>26.526716</td>\n",
              "      <td>143547960</td>\n",
              "      <td>0.0</td>\n",
              "      <td>1.0</td>\n",
              "    </tr>\n",
              "    <tr>\n",
              "      <th>2</th>\n",
              "      <td>AAPL</td>\n",
              "      <td>2016-09-30 00:00:00+00:00</td>\n",
              "      <td>113.05</td>\n",
              "      <td>113.37</td>\n",
              "      <td>111.80</td>\n",
              "      <td>112.46</td>\n",
              "      <td>36379106</td>\n",
              "      <td>26.500930</td>\n",
              "      <td>26.575944</td>\n",
              "      <td>26.207908</td>\n",
              "      <td>26.362624</td>\n",
              "      <td>145516424</td>\n",
              "      <td>0.0</td>\n",
              "      <td>1.0</td>\n",
              "    </tr>\n",
              "    <tr>\n",
              "      <th>3</th>\n",
              "      <td>AAPL</td>\n",
              "      <td>2016-10-03 00:00:00+00:00</td>\n",
              "      <td>112.52</td>\n",
              "      <td>113.05</td>\n",
              "      <td>112.28</td>\n",
              "      <td>112.71</td>\n",
              "      <td>21701760</td>\n",
              "      <td>26.376689</td>\n",
              "      <td>26.500930</td>\n",
              "      <td>26.320428</td>\n",
              "      <td>26.421228</td>\n",
              "      <td>86807040</td>\n",
              "      <td>0.0</td>\n",
              "      <td>1.0</td>\n",
              "    </tr>\n",
              "    <tr>\n",
              "      <th>4</th>\n",
              "      <td>AAPL</td>\n",
              "      <td>2016-10-04 00:00:00+00:00</td>\n",
              "      <td>113.00</td>\n",
              "      <td>114.31</td>\n",
              "      <td>112.63</td>\n",
              "      <td>113.06</td>\n",
              "      <td>29736835</td>\n",
              "      <td>26.489209</td>\n",
              "      <td>26.796297</td>\n",
              "      <td>26.402475</td>\n",
              "      <td>26.503274</td>\n",
              "      <td>118947340</td>\n",
              "      <td>0.0</td>\n",
              "      <td>1.0</td>\n",
              "    </tr>\n",
              "  </tbody>\n",
              "</table>\n",
              "</div>"
            ],
            "text/plain": [
              "  symbol                       date   close  ...  adjVolume  divCash  splitFactor\n",
              "0   AAPL  2016-09-28 00:00:00+00:00  113.95  ...  118564340      0.0          1.0\n",
              "1   AAPL  2016-09-29 00:00:00+00:00  112.18  ...  143547960      0.0          1.0\n",
              "2   AAPL  2016-09-30 00:00:00+00:00  113.05  ...  145516424      0.0          1.0\n",
              "3   AAPL  2016-10-03 00:00:00+00:00  112.52  ...   86807040      0.0          1.0\n",
              "4   AAPL  2016-10-04 00:00:00+00:00  113.00  ...  118947340      0.0          1.0\n",
              "\n",
              "[5 rows x 14 columns]"
            ]
          },
          "metadata": {},
          "execution_count": 75
        }
      ]
    },
    {
      "cell_type": "code",
      "metadata": {
        "colab": {
          "base_uri": "https://localhost:8080/",
          "height": 313
        },
        "id": "qI0LqC25W5zq",
        "outputId": "276437de-bd26-45c6-cd8e-b1fd9ff8e214"
      },
      "source": [
        "df.tail()"
      ],
      "execution_count": null,
      "outputs": [
        {
          "output_type": "execute_result",
          "data": {
            "text/html": [
              "<div>\n",
              "<style scoped>\n",
              "    .dataframe tbody tr th:only-of-type {\n",
              "        vertical-align: middle;\n",
              "    }\n",
              "\n",
              "    .dataframe tbody tr th {\n",
              "        vertical-align: top;\n",
              "    }\n",
              "\n",
              "    .dataframe thead th {\n",
              "        text-align: right;\n",
              "    }\n",
              "</style>\n",
              "<table border=\"1\" class=\"dataframe\">\n",
              "  <thead>\n",
              "    <tr style=\"text-align: right;\">\n",
              "      <th></th>\n",
              "      <th>symbol</th>\n",
              "      <th>date</th>\n",
              "      <th>close</th>\n",
              "      <th>high</th>\n",
              "      <th>low</th>\n",
              "      <th>open</th>\n",
              "      <th>volume</th>\n",
              "      <th>adjClose</th>\n",
              "      <th>adjHigh</th>\n",
              "      <th>adjLow</th>\n",
              "      <th>adjOpen</th>\n",
              "      <th>adjVolume</th>\n",
              "      <th>divCash</th>\n",
              "      <th>splitFactor</th>\n",
              "    </tr>\n",
              "  </thead>\n",
              "  <tbody>\n",
              "    <tr>\n",
              "      <th>1252</th>\n",
              "      <td>AAPL</td>\n",
              "      <td>2021-09-20 00:00:00+00:00</td>\n",
              "      <td>142.94</td>\n",
              "      <td>144.8400</td>\n",
              "      <td>141.2700</td>\n",
              "      <td>143.80</td>\n",
              "      <td>123478863</td>\n",
              "      <td>142.94</td>\n",
              "      <td>144.8400</td>\n",
              "      <td>141.2700</td>\n",
              "      <td>143.80</td>\n",
              "      <td>123478863</td>\n",
              "      <td>0.0</td>\n",
              "      <td>1.0</td>\n",
              "    </tr>\n",
              "    <tr>\n",
              "      <th>1253</th>\n",
              "      <td>AAPL</td>\n",
              "      <td>2021-09-21 00:00:00+00:00</td>\n",
              "      <td>143.43</td>\n",
              "      <td>144.6000</td>\n",
              "      <td>142.7800</td>\n",
              "      <td>143.93</td>\n",
              "      <td>75833962</td>\n",
              "      <td>143.43</td>\n",
              "      <td>144.6000</td>\n",
              "      <td>142.7800</td>\n",
              "      <td>143.93</td>\n",
              "      <td>75833962</td>\n",
              "      <td>0.0</td>\n",
              "      <td>1.0</td>\n",
              "    </tr>\n",
              "    <tr>\n",
              "      <th>1254</th>\n",
              "      <td>AAPL</td>\n",
              "      <td>2021-09-22 00:00:00+00:00</td>\n",
              "      <td>145.85</td>\n",
              "      <td>146.4300</td>\n",
              "      <td>143.7001</td>\n",
              "      <td>144.45</td>\n",
              "      <td>76404341</td>\n",
              "      <td>145.85</td>\n",
              "      <td>146.4300</td>\n",
              "      <td>143.7001</td>\n",
              "      <td>144.45</td>\n",
              "      <td>76404341</td>\n",
              "      <td>0.0</td>\n",
              "      <td>1.0</td>\n",
              "    </tr>\n",
              "    <tr>\n",
              "      <th>1255</th>\n",
              "      <td>AAPL</td>\n",
              "      <td>2021-09-23 00:00:00+00:00</td>\n",
              "      <td>146.83</td>\n",
              "      <td>147.0800</td>\n",
              "      <td>145.6400</td>\n",
              "      <td>146.65</td>\n",
              "      <td>64838170</td>\n",
              "      <td>146.83</td>\n",
              "      <td>147.0800</td>\n",
              "      <td>145.6400</td>\n",
              "      <td>146.65</td>\n",
              "      <td>64838170</td>\n",
              "      <td>0.0</td>\n",
              "      <td>1.0</td>\n",
              "    </tr>\n",
              "    <tr>\n",
              "      <th>1256</th>\n",
              "      <td>AAPL</td>\n",
              "      <td>2021-09-24 00:00:00+00:00</td>\n",
              "      <td>146.92</td>\n",
              "      <td>147.4701</td>\n",
              "      <td>145.5600</td>\n",
              "      <td>145.66</td>\n",
              "      <td>53477869</td>\n",
              "      <td>146.92</td>\n",
              "      <td>147.4701</td>\n",
              "      <td>145.5600</td>\n",
              "      <td>145.66</td>\n",
              "      <td>53477869</td>\n",
              "      <td>0.0</td>\n",
              "      <td>1.0</td>\n",
              "    </tr>\n",
              "  </tbody>\n",
              "</table>\n",
              "</div>"
            ],
            "text/plain": [
              "     symbol                       date   close  ...  adjVolume  divCash  splitFactor\n",
              "1252   AAPL  2021-09-20 00:00:00+00:00  142.94  ...  123478863      0.0          1.0\n",
              "1253   AAPL  2021-09-21 00:00:00+00:00  143.43  ...   75833962      0.0          1.0\n",
              "1254   AAPL  2021-09-22 00:00:00+00:00  145.85  ...   76404341      0.0          1.0\n",
              "1255   AAPL  2021-09-23 00:00:00+00:00  146.83  ...   64838170      0.0          1.0\n",
              "1256   AAPL  2021-09-24 00:00:00+00:00  146.92  ...   53477869      0.0          1.0\n",
              "\n",
              "[5 rows x 14 columns]"
            ]
          },
          "metadata": {},
          "execution_count": 76
        }
      ]
    },
    {
      "cell_type": "code",
      "metadata": {
        "id": "T0mHemruVItX"
      },
      "source": [
        "#We will use 'close'(last price at which a stock trades during a regular trading session during a particular day) \n",
        "#values for prediction other values like 'open' can also be used\n",
        "df2=df['close']"
      ],
      "execution_count": null,
      "outputs": []
    },
    {
      "cell_type": "code",
      "metadata": {
        "colab": {
          "base_uri": "https://localhost:8080/"
        },
        "id": "c_DfTzfEPJS-",
        "outputId": "ab575389-afd4-4b47-9e0b-a7dce2d00c39"
      },
      "source": [
        "df2.shape"
      ],
      "execution_count": null,
      "outputs": [
        {
          "output_type": "execute_result",
          "data": {
            "text/plain": [
              "(1257,)"
            ]
          },
          "metadata": {},
          "execution_count": 78
        }
      ]
    },
    {
      "cell_type": "code",
      "metadata": {
        "colab": {
          "base_uri": "https://localhost:8080/",
          "height": 282
        },
        "id": "ACM-MxAEPCXK",
        "outputId": "a7fbfee5-48e3-45df-f645-ec025072f990"
      },
      "source": [
        "#Plotting the 'close' values for visualization\n",
        "import matplotlib.pyplot as plt\n",
        "plt.plot(df2)"
      ],
      "execution_count": null,
      "outputs": [
        {
          "output_type": "execute_result",
          "data": {
            "text/plain": [
              "[<matplotlib.lines.Line2D at 0x7f459e574f90>]"
            ]
          },
          "metadata": {},
          "execution_count": 79
        },
        {
          "output_type": "display_data",
          "data": {
            "image/png": "[encoded data removed]",
            "text/plain": [
              "<Figure size 432x288 with 1 Axes>"
            ]
          },
          "metadata": {
            "needs_background": "light"
          }
        }
      ]
    },
    {
      "cell_type": "code",
      "metadata": {
        "id": "eNhNVoaeQoH9"
      },
      "source": [
        "#Scaling the data to  a range of (0,1) using MinMaxScaler or nomalizing the data for better prediction \n",
        "import numpy as np\n",
        "from sklearn.preprocessing import MinMaxScaler\n",
        "sc=MinMaxScaler(feature_range=(0,1))\n",
        "df2=sc.fit_transform(np.array(np.array(df2).reshape(-1,1)))"
      ],
      "execution_count": null,
      "outputs": []
    },
    {
      "cell_type": "code",
      "metadata": {
        "colab": {
          "base_uri": "https://localhost:8080/"
        },
        "id": "TA2kFuO9R6Mr",
        "outputId": "c215c66d-4d6d-4e32-d55a-cdf42700ea73"
      },
      "source": [
        "df2"
      ],
      "execution_count": null,
      "outputs": [
        {
          "output_type": "execute_result",
          "data": {
            "text/plain": [
              "array([[0.02058045],\n",
              "       [0.01615965],\n",
              "       [0.01833258],\n",
              "       ...,\n",
              "       [0.10025476],\n",
              "       [0.10270243],\n",
              "       [0.10292722]])"
            ]
          },
          "metadata": {},
          "execution_count": 81
        }
      ]
    },
    {
      "cell_type": "code",
      "metadata": {
        "id": "i1w8D2s1SE4-"
      },
      "source": [
        "#Splitting the data into training data and test data ,about 2/3rd is training data and rest test data\n",
        "train_size=int(len(df2)*0.65)\n",
        "test_size=len(df2)-train_size\n",
        "train_data,test_data=df2[0:train_size,:],df2[train_size:len(df2),:1]"
      ],
      "execution_count": null,
      "outputs": []
    },
    {
      "cell_type": "code",
      "metadata": {
        "id": "eB2UowdY0Wr_"
      },
      "source": [
        "import numpy\n",
        "#convert an array of values into a dataset  matrix\n",
        "def create_dataset(dataset,time_step=1):\n",
        "  data_x,data_y=[],[]\n",
        "  for i in range(len(dataset)-time_step-1):\n",
        "    a=dataset[i:(i+time_step),0]\n",
        "    data_x.append(a)\n",
        "    data_y.append(dataset[i+time_step,0])\n",
        "  return numpy.array(data_x),numpy.array(data_y)\n",
        "\n"
      ],
      "execution_count": null,
      "outputs": []
    },
    {
      "cell_type": "code",
      "metadata": {
        "id": "z3dnFFEC4hBh"
      },
      "source": [
        "#Creating X_train,Y_train out of training data and X_test,Y_test out of test data with time_step=100 using the above function\n",
        "time_step=100\n",
        "X_train,Y_train = create_dataset(train_data,time_step)\n",
        "X_test,Y_test=create_dataset(test_data,time_step)"
      ],
      "execution_count": null,
      "outputs": []
    },
    {
      "cell_type": "code",
      "metadata": {
        "colab": {
          "base_uri": "https://localhost:8080/"
        },
        "id": "-QiSDbFg5rUf",
        "outputId": "e1685d3a-fda4-42d2-99bd-bd3839672761"
      },
      "source": [
        "print(X_train)"
      ],
      "execution_count": null,
      "outputs": [
        {
          "output_type": "stream",
          "name": "stdout",
          "text": [
            "[[0.02058045 0.01615965 0.01833258 ... 0.07401718 0.07495379 0.07740147]\n",
            " [0.01615965 0.01833258 0.01700884 ... 0.07495379 0.07740147 0.0784255 ]\n",
            " [0.01833258 0.01700884 0.0182077  ... 0.07740147 0.0784255  0.07697687]\n",
            " ...\n",
            " [0.26807033 0.25655627 0.24554174 ... 0.43633548 0.43466207 0.43536141]\n",
            " [0.25655627 0.24554174 0.21886708 ... 0.43466207 0.43536141 0.43391278]\n",
            " [0.24554174 0.21886708 0.22800839 ... 0.43536141 0.43391278 0.44530196]]\n"
          ]
        }
      ]
    },
    {
      "cell_type": "code",
      "metadata": {
        "colab": {
          "base_uri": "https://localhost:8080/"
        },
        "id": "p5wpg6Td6tEo",
        "outputId": "9cbf78d4-e5bc-4e5c-88c5-21290b9b5a94"
      },
      "source": [
        "print(X_train.shape)\n",
        "print(Y_train.shape)"
      ],
      "execution_count": null,
      "outputs": [
        {
          "output_type": "stream",
          "name": "stdout",
          "text": [
            "(716, 100)\n",
            "(716,)\n"
          ]
        }
      ]
    },
    {
      "cell_type": "code",
      "metadata": {
        "id": "v7B0OQgF7uTc"
      },
      "source": [
        "#reshape input to be [samples,timesteps,features] which is required for LSTM\n",
        "X_train=X_train.reshape(X_train.shape[0],X_train.shape[1],1)\n",
        "X_test=X_test.reshape(X_test.shape[0],X_test.shape[1],1)"
      ],
      "execution_count": null,
      "outputs": []
    },
    {
      "cell_type": "code",
      "metadata": {
        "id": "uFf8ovbY9QMS"
      },
      "source": [
        "#Creating the Stacked LSTM Model\n",
        "from tensorflow.keras.models import Sequential\n",
        "from tensorflow.keras.layers import Dense\n",
        "from tensorflow.keras.layers import LSTM\n",
        "from tensorflow.keras.layers import Dropout"
      ],
      "execution_count": null,
      "outputs": []
    },
    {
      "cell_type": "code",
      "metadata": {
        "id": "xEOTDcOf-Zbt"
      },
      "source": [
        "#Create a sequential model to which layers can be added\n",
        "model=Sequential()\n",
        "#1st LSTM layer \n",
        "model.add(LSTM(50,return_sequences=True,input_shape=(100,1)))\n",
        "model.add(Dropout(0.2))\n",
        "#2nd LSTM layer\n",
        "model.add(LSTM(50,return_sequences=True))\n",
        "model.add(Dropout(0.2))\n",
        "#3rd LSTM layer\n",
        "model.add(LSTM(50))\n",
        "model.add(Dropout(0.2))\n",
        "#Dense layer of dimension 1 for output\n",
        "model.add(Dense(1))\n",
        "#Compile the model using defined loss and optimizer\n",
        "model.compile(loss='mean_squared_error',optimizer='adam')"
      ],
      "execution_count": null,
      "outputs": []
    },
    {
      "cell_type": "code",
      "metadata": {
        "colab": {
          "base_uri": "https://localhost:8080/"
        },
        "id": "y5o4LPKmAfJk",
        "outputId": "85da4127-2af7-4694-bc62-1cc2231f1031"
      },
      "source": [
        "model.summary()"
      ],
      "execution_count": null,
      "outputs": [
        {
          "output_type": "stream",
          "name": "stdout",
          "text": [
            "Model: \"sequential_2\"\n",
            "_________________________________________________________________\n",
            "Layer (type)                 Output Shape              Param #   \n",
            "=================================================================\n",
            "lstm_6 (LSTM)                (None, 100, 50)           10400     \n",
            "_________________________________________________________________\n",
            "dropout_6 (Dropout)          (None, 100, 50)           0         \n",
            "_________________________________________________________________\n",
            "lstm_7 (LSTM)                (None, 100, 50)           20200     \n",
            "_________________________________________________________________\n",
            "dropout_7 (Dropout)          (None, 100, 50)           0         \n",
            "_________________________________________________________________\n",
            "lstm_8 (LSTM)                (None, 50)                20200     \n",
            "_________________________________________________________________\n",
            "dropout_8 (Dropout)          (None, 50)                0         \n",
            "_________________________________________________________________\n",
            "dense_2 (Dense)              (None, 1)                 51        \n",
            "=================================================================\n",
            "Total params: 50,851\n",
            "Trainable params: 50,851\n",
            "Non-trainable params: 0\n",
            "_________________________________________________________________\n"
          ]
        }
      ]
    },
    {
      "cell_type": "code",
      "metadata": {
        "colab": {
          "base_uri": "https://localhost:8080/"
        },
        "id": "ccGbOo24VS1c",
        "outputId": "9eefe8ac-aec0-4e4c-d118-440fa230fd3f"
      },
      "source": [
        "#Fitting the model \n",
        "model.fit(X_train,Y_train,validation_data=(X_test,Y_test),epochs=100,batch_size=64,verbose=1)"
      ],
      "execution_count": null,
      "outputs": [
        {
          "output_type": "stream",
          "name": "stdout",
          "text": [
            "Epoch 1/100\n",
            "12/12 [==============================] - 9s 307ms/step - loss: 0.0146 - val_loss: 0.0348\n",
            "Epoch 2/100\n",
            "12/12 [==============================] - 2s 207ms/step - loss: 0.0033 - val_loss: 0.0265\n",
            "Epoch 3/100\n",
            "12/12 [==============================] - 2s 203ms/step - loss: 0.0021 - val_loss: 0.0219\n",
            "Epoch 4/100\n",
            "12/12 [==============================] - 2s 201ms/step - loss: 0.0012 - val_loss: 0.0221\n",
            "Epoch 5/100\n",
            "12/12 [==============================] - 2s 205ms/step - loss: 8.8167e-04 - val_loss: 0.0262\n",
            "Epoch 6/100\n",
            "12/12 [==============================] - 2s 202ms/step - loss: 9.5291e-04 - val_loss: 0.0245\n",
            "Epoch 7/100\n",
            "12/12 [==============================] - 2s 202ms/step - loss: 7.9676e-04 - val_loss: 0.0225\n",
            "Epoch 8/100\n",
            "12/12 [==============================] - 2s 204ms/step - loss: 8.9708e-04 - val_loss: 0.0212\n",
            "Epoch 9/100\n",
            "12/12 [==============================] - 2s 206ms/step - loss: 8.1359e-04 - val_loss: 0.0221\n",
            "Epoch 10/100\n",
            "12/12 [==============================] - 2s 205ms/step - loss: 7.8955e-04 - val_loss: 0.0206\n",
            "Epoch 11/100\n",
            "12/12 [==============================] - 2s 201ms/step - loss: 8.1271e-04 - val_loss: 0.0191\n",
            "Epoch 12/100\n",
            "12/12 [==============================] - 2s 202ms/step - loss: 8.8310e-04 - val_loss: 0.0201\n",
            "Epoch 13/100\n",
            "12/12 [==============================] - 2s 207ms/step - loss: 7.4589e-04 - val_loss: 0.0221\n",
            "Epoch 14/100\n",
            "12/12 [==============================] - 2s 206ms/step - loss: 7.0169e-04 - val_loss: 0.0202\n",
            "Epoch 15/100\n",
            "12/12 [==============================] - 2s 203ms/step - loss: 7.2807e-04 - val_loss: 0.0218\n",
            "Epoch 16/100\n",
            "12/12 [==============================] - 2s 202ms/step - loss: 7.2426e-04 - val_loss: 0.0182\n",
            "Epoch 17/100\n",
            "12/12 [==============================] - 2s 203ms/step - loss: 6.6482e-04 - val_loss: 0.0178\n",
            "Epoch 18/100\n",
            "12/12 [==============================] - 2s 209ms/step - loss: 6.7554e-04 - val_loss: 0.0208\n",
            "Epoch 19/100\n",
            "12/12 [==============================] - 2s 205ms/step - loss: 6.2888e-04 - val_loss: 0.0201\n",
            "Epoch 20/100\n",
            "12/12 [==============================] - 2s 204ms/step - loss: 6.4467e-04 - val_loss: 0.0187\n",
            "Epoch 21/100\n",
            "12/12 [==============================] - 2s 204ms/step - loss: 5.7241e-04 - val_loss: 0.0180\n",
            "Epoch 22/100\n",
            "12/12 [==============================] - 2s 204ms/step - loss: 6.1537e-04 - val_loss: 0.0218\n",
            "Epoch 23/100\n",
            "12/12 [==============================] - 2s 207ms/step - loss: 6.0779e-04 - val_loss: 0.0191\n",
            "Epoch 24/100\n",
            "12/12 [==============================] - 2s 206ms/step - loss: 6.1481e-04 - val_loss: 0.0173\n",
            "Epoch 25/100\n",
            "12/12 [==============================] - 2s 205ms/step - loss: 6.5485e-04 - val_loss: 0.0168\n",
            "Epoch 26/100\n",
            "12/12 [==============================] - 2s 206ms/step - loss: 5.5762e-04 - val_loss: 0.0155\n",
            "Epoch 27/100\n",
            "12/12 [==============================] - 2s 207ms/step - loss: 6.5941e-04 - val_loss: 0.0177\n",
            "Epoch 28/100\n",
            "12/12 [==============================] - 2s 204ms/step - loss: 5.7619e-04 - val_loss: 0.0191\n",
            "Epoch 29/100\n",
            "12/12 [==============================] - 2s 206ms/step - loss: 5.4602e-04 - val_loss: 0.0161\n",
            "Epoch 30/100\n",
            "12/12 [==============================] - 2s 206ms/step - loss: 5.5352e-04 - val_loss: 0.0160\n",
            "Epoch 31/100\n",
            "12/12 [==============================] - 2s 206ms/step - loss: 5.3841e-04 - val_loss: 0.0181\n",
            "Epoch 32/100\n",
            "12/12 [==============================] - 2s 204ms/step - loss: 5.9773e-04 - val_loss: 0.0161\n",
            "Epoch 33/100\n",
            "12/12 [==============================] - 2s 209ms/step - loss: 5.6156e-04 - val_loss: 0.0156\n",
            "Epoch 34/100\n",
            "12/12 [==============================] - 2s 206ms/step - loss: 5.1941e-04 - val_loss: 0.0171\n",
            "Epoch 35/100\n",
            "12/12 [==============================] - 3s 212ms/step - loss: 5.7218e-04 - val_loss: 0.0160\n",
            "Epoch 36/100\n",
            "12/12 [==============================] - 2s 208ms/step - loss: 5.2184e-04 - val_loss: 0.0176\n",
            "Epoch 37/100\n",
            "12/12 [==============================] - 2s 206ms/step - loss: 4.8256e-04 - val_loss: 0.0167\n",
            "Epoch 38/100\n",
            "12/12 [==============================] - 2s 206ms/step - loss: 5.1284e-04 - val_loss: 0.0162\n",
            "Epoch 39/100\n",
            "12/12 [==============================] - 2s 207ms/step - loss: 5.0814e-04 - val_loss: 0.0150\n",
            "Epoch 40/100\n",
            "12/12 [==============================] - 2s 207ms/step - loss: 4.7250e-04 - val_loss: 0.0182\n",
            "Epoch 41/100\n",
            "12/12 [==============================] - 2s 203ms/step - loss: 5.0888e-04 - val_loss: 0.0158\n",
            "Epoch 42/100\n",
            "12/12 [==============================] - 2s 207ms/step - loss: 5.1581e-04 - val_loss: 0.0140\n",
            "Epoch 43/100\n",
            "12/12 [==============================] - 2s 206ms/step - loss: 4.2474e-04 - val_loss: 0.0164\n",
            "Epoch 44/100\n",
            "12/12 [==============================] - 2s 206ms/step - loss: 4.1873e-04 - val_loss: 0.0137\n",
            "Epoch 45/100\n",
            "12/12 [==============================] - 3s 218ms/step - loss: 4.7612e-04 - val_loss: 0.0153\n",
            "Epoch 46/100\n",
            "12/12 [==============================] - 2s 204ms/step - loss: 4.9401e-04 - val_loss: 0.0147\n",
            "Epoch 47/100\n",
            "12/12 [==============================] - 2s 209ms/step - loss: 4.8074e-04 - val_loss: 0.0152\n",
            "Epoch 48/100\n",
            "12/12 [==============================] - 2s 207ms/step - loss: 4.4616e-04 - val_loss: 0.0146\n",
            "Epoch 49/100\n",
            "12/12 [==============================] - 2s 204ms/step - loss: 4.6165e-04 - val_loss: 0.0148\n",
            "Epoch 50/100\n",
            "12/12 [==============================] - 3s 210ms/step - loss: 4.9842e-04 - val_loss: 0.0158\n",
            "Epoch 51/100\n",
            "12/12 [==============================] - 3s 213ms/step - loss: 4.7640e-04 - val_loss: 0.0124\n",
            "Epoch 52/100\n",
            "12/12 [==============================] - 3s 211ms/step - loss: 4.3674e-04 - val_loss: 0.0152\n",
            "Epoch 53/100\n",
            "12/12 [==============================] - 2s 208ms/step - loss: 4.7688e-04 - val_loss: 0.0135\n",
            "Epoch 54/100\n",
            "12/12 [==============================] - 3s 209ms/step - loss: 4.3376e-04 - val_loss: 0.0126\n",
            "Epoch 55/100\n",
            "12/12 [==============================] - 2s 206ms/step - loss: 5.0495e-04 - val_loss: 0.0121\n",
            "Epoch 56/100\n",
            "12/12 [==============================] - 2s 206ms/step - loss: 4.8237e-04 - val_loss: 0.0120\n",
            "Epoch 57/100\n",
            "12/12 [==============================] - 2s 206ms/step - loss: 4.4737e-04 - val_loss: 0.0117\n",
            "Epoch 58/100\n",
            "12/12 [==============================] - 2s 206ms/step - loss: 4.2591e-04 - val_loss: 0.0129\n",
            "Epoch 59/100\n",
            "12/12 [==============================] - 2s 206ms/step - loss: 4.1529e-04 - val_loss: 0.0115\n",
            "Epoch 60/100\n",
            "12/12 [==============================] - 2s 206ms/step - loss: 4.3212e-04 - val_loss: 0.0156\n",
            "Epoch 61/100\n",
            "12/12 [==============================] - 2s 206ms/step - loss: 4.6811e-04 - val_loss: 0.0115\n",
            "Epoch 62/100\n",
            "12/12 [==============================] - 2s 201ms/step - loss: 4.7345e-04 - val_loss: 0.0119\n",
            "Epoch 63/100\n",
            "12/12 [==============================] - 2s 203ms/step - loss: 4.0656e-04 - val_loss: 0.0126\n",
            "Epoch 64/100\n",
            "12/12 [==============================] - 2s 207ms/step - loss: 3.9268e-04 - val_loss: 0.0111\n",
            "Epoch 65/100\n",
            "12/12 [==============================] - 3s 210ms/step - loss: 4.1579e-04 - val_loss: 0.0122\n",
            "Epoch 66/100\n",
            "12/12 [==============================] - 2s 208ms/step - loss: 3.7591e-04 - val_loss: 0.0126\n",
            "Epoch 67/100\n",
            "12/12 [==============================] - 2s 204ms/step - loss: 3.7728e-04 - val_loss: 0.0112\n",
            "Epoch 68/100\n",
            "12/12 [==============================] - 2s 205ms/step - loss: 4.0682e-04 - val_loss: 0.0124\n",
            "Epoch 69/100\n",
            "12/12 [==============================] - 2s 207ms/step - loss: 3.7456e-04 - val_loss: 0.0110\n",
            "Epoch 70/100\n",
            "12/12 [==============================] - 2s 204ms/step - loss: 4.2280e-04 - val_loss: 0.0119\n",
            "Epoch 71/100\n",
            "12/12 [==============================] - 2s 205ms/step - loss: 3.7329e-04 - val_loss: 0.0120\n",
            "Epoch 72/100\n",
            "12/12 [==============================] - 2s 206ms/step - loss: 3.9518e-04 - val_loss: 0.0118\n",
            "Epoch 73/100\n",
            "12/12 [==============================] - 2s 208ms/step - loss: 3.3874e-04 - val_loss: 0.0111\n",
            "Epoch 74/100\n",
            "12/12 [==============================] - 2s 207ms/step - loss: 3.5572e-04 - val_loss: 0.0128\n",
            "Epoch 75/100\n",
            "12/12 [==============================] - 2s 206ms/step - loss: 3.4171e-04 - val_loss: 0.0111\n",
            "Epoch 76/100\n",
            "12/12 [==============================] - 2s 208ms/step - loss: 3.4778e-04 - val_loss: 0.0101\n",
            "Epoch 77/100\n",
            "12/12 [==============================] - 2s 205ms/step - loss: 4.4959e-04 - val_loss: 0.0115\n",
            "Epoch 78/100\n",
            "12/12 [==============================] - 3s 214ms/step - loss: 3.7105e-04 - val_loss: 0.0115\n",
            "Epoch 79/100\n",
            "12/12 [==============================] - 3s 212ms/step - loss: 3.3956e-04 - val_loss: 0.0123\n",
            "Epoch 80/100\n",
            "12/12 [==============================] - 3s 211ms/step - loss: 3.9338e-04 - val_loss: 0.0115\n",
            "Epoch 81/100\n",
            "12/12 [==============================] - 3s 212ms/step - loss: 3.8194e-04 - val_loss: 0.0118\n",
            "Epoch 82/100\n",
            "12/12 [==============================] - 2s 209ms/step - loss: 3.7304e-04 - val_loss: 0.0102\n",
            "Epoch 83/100\n",
            "12/12 [==============================] - 2s 210ms/step - loss: 3.0784e-04 - val_loss: 0.0126\n",
            "Epoch 84/100\n",
            "12/12 [==============================] - 3s 211ms/step - loss: 3.7181e-04 - val_loss: 0.0113\n",
            "Epoch 85/100\n",
            "12/12 [==============================] - 2s 208ms/step - loss: 3.6787e-04 - val_loss: 0.0109\n",
            "Epoch 86/100\n",
            "12/12 [==============================] - 2s 208ms/step - loss: 3.4699e-04 - val_loss: 0.0121\n",
            "Epoch 87/100\n",
            "12/12 [==============================] - 3s 210ms/step - loss: 3.5316e-04 - val_loss: 0.0111\n",
            "Epoch 88/100\n",
            "12/12 [==============================] - 2s 209ms/step - loss: 3.7173e-04 - val_loss: 0.0106\n",
            "Epoch 89/100\n",
            "12/12 [==============================] - 3s 213ms/step - loss: 3.4394e-04 - val_loss: 0.0098\n",
            "Epoch 90/100\n",
            "12/12 [==============================] - 2s 208ms/step - loss: 2.9970e-04 - val_loss: 0.0107\n",
            "Epoch 91/100\n",
            "12/12 [==============================] - 3s 211ms/step - loss: 3.4536e-04 - val_loss: 0.0095\n",
            "Epoch 92/100\n",
            "12/12 [==============================] - 2s 209ms/step - loss: 3.4357e-04 - val_loss: 0.0106\n",
            "Epoch 93/100\n",
            "12/12 [==============================] - 3s 216ms/step - loss: 2.9225e-04 - val_loss: 0.0095\n",
            "Epoch 94/100\n",
            "12/12 [==============================] - 2s 209ms/step - loss: 3.1409e-04 - val_loss: 0.0103\n",
            "Epoch 95/100\n",
            "12/12 [==============================] - 2s 208ms/step - loss: 3.2793e-04 - val_loss: 0.0097\n",
            "Epoch 96/100\n",
            "12/12 [==============================] - 2s 206ms/step - loss: 3.4317e-04 - val_loss: 0.0094\n",
            "Epoch 97/100\n",
            "12/12 [==============================] - 2s 209ms/step - loss: 2.8394e-04 - val_loss: 0.0100\n",
            "Epoch 98/100\n",
            "12/12 [==============================] - 2s 205ms/step - loss: 2.7968e-04 - val_loss: 0.0094\n",
            "Epoch 99/100\n",
            "12/12 [==============================] - 3s 212ms/step - loss: 3.0401e-04 - val_loss: 0.0098\n",
            "Epoch 100/100\n",
            "12/12 [==============================] - 2s 208ms/step - loss: 3.1927e-04 - val_loss: 0.0100\n"
          ]
        },
        {
          "output_type": "execute_result",
          "data": {
            "text/plain": [
              "<keras.callbacks.History at 0x7f459e1ccf10>"
            ]
          },
          "metadata": {},
          "execution_count": 91
        }
      ]
    },
    {
      "cell_type": "code",
      "metadata": {
        "id": "Udno8aqHXEbi"
      },
      "source": [
        "import tensorflow as tf"
      ],
      "execution_count": null,
      "outputs": []
    },
    {
      "cell_type": "code",
      "metadata": {
        "colab": {
          "base_uri": "https://localhost:8080/",
          "height": 35
        },
        "id": "L5tCuGIgXIfW",
        "outputId": "05005867-c9ea-4e10-b229-8241a9c7e3f8"
      },
      "source": [
        "tf.__version__"
      ],
      "execution_count": null,
      "outputs": [
        {
          "output_type": "execute_result",
          "data": {
            "application/vnd.google.colaboratory.intrinsic+json": {
              "type": "string"
            },
            "text/plain": [
              "'2.6.0'"
            ]
          },
          "metadata": {},
          "execution_count": 93
        }
      ]
    },
    {
      "cell_type": "code",
      "metadata": {
        "id": "YJPFyBMRWkEO"
      },
      "source": [
        "#do prediction and check performance metrics\n",
        "train_predict=model.predict(X_train)\n",
        "test_predict=model.predict(X_test)"
      ],
      "execution_count": null,
      "outputs": []
    },
    {
      "cell_type": "code",
      "metadata": {
        "id": "GhHnx2K9XVvD"
      },
      "source": [
        "#Transform back to original form\n",
        "train_predict=sc.inverse_transform(train_predict)\n",
        "test_predict=sc.inverse_transform(test_predict)"
      ],
      "execution_count": null,
      "outputs": []
    },
    {
      "cell_type": "code",
      "metadata": {
        "colab": {
          "base_uri": "https://localhost:8080/"
        },
        "id": "yxK6uo7EX8jN",
        "outputId": "551b0aa9-4513-409b-a62d-9fec428cc54c"
      },
      "source": [
        "#Calculate RMSE performance metrics\n",
        "import math\n",
        "from sklearn.metrics import mean_squared_error\n",
        "#Of training data\n",
        "math.sqrt(mean_squared_error(Y_train,train_predict))"
      ],
      "execution_count": null,
      "outputs": [
        {
          "output_type": "execute_result",
          "data": {
            "text/plain": [
              "189.4436212909275"
            ]
          },
          "metadata": {},
          "execution_count": 96
        }
      ]
    },
    {
      "cell_type": "code",
      "metadata": {
        "colab": {
          "base_uri": "https://localhost:8080/"
        },
        "id": "0VIYF8CzYXX-",
        "outputId": "3f73d2ab-1c5b-4955-a604-240755f655cf"
      },
      "source": [
        "#Of test data\n",
        "math.sqrt(mean_squared_error(Y_test,test_predict))"
      ],
      "execution_count": null,
      "outputs": [
        {
          "output_type": "execute_result",
          "data": {
            "text/plain": [
              "224.6055080767986"
            ]
          },
          "metadata": {},
          "execution_count": 97
        }
      ]
    },
    {
      "cell_type": "code",
      "metadata": {
        "id": "eZ83ZNxRZSiU"
      },
      "source": [
        "#shift train predictions for plotting to align with the original dataset\n",
        "look_back=100\n",
        "train_predict_plot=numpy.empty_like(df2)\n",
        "train_predict_plot[:,:]=np.nan\n",
        "train_predict_plot[look_back:len(train_predict)+look_back,:]=train_predict"
      ],
      "execution_count": null,
      "outputs": []
    },
    {
      "cell_type": "code",
      "metadata": {
        "id": "47ag8-OYZ3Sd"
      },
      "source": [
        "#shift test predictions for plotting to align with the original dataset\n",
        "test_predict_plot=numpy.empty_like(df2)\n",
        "test_predict_plot[:,:]=np.nan\n",
        "test_predict_plot[len(train_predict)+(look_back*2)+1:len(df2)-1,:]=test_predict"
      ],
      "execution_count": null,
      "outputs": []
    },
    {
      "cell_type": "code",
      "metadata": {
        "colab": {
          "base_uri": "https://localhost:8080/",
          "height": 265
        },
        "id": "93AFm_Bbatdp",
        "outputId": "9d38cb68-d5a4-4582-838a-8346f854ac4a"
      },
      "source": [
        "#plot baseline and predictions\n",
        "plt.plot(sc.inverse_transform(df2))\n",
        "plt.plot(train_predict_plot)\n",
        "plt.plot(test_predict_plot)\n",
        "plt.show()"
      ],
      "execution_count": null,
      "outputs": [
        {
          "output_type": "display_data",
          "data": {
            "image/png": "[encoded data removed]",
            "text/plain": [
              "<Figure size 432x288 with 1 Axes>"
            ]
          },
          "metadata": {
            "needs_background": "light"
          }
        }
      ]
    },
    {
      "cell_type": "code",
      "metadata": {
        "colab": {
          "base_uri": "https://localhost:8080/"
        },
        "id": "K04lAKKucHzL",
        "outputId": "59e50fba-4ee1-4c2d-d94c-82e0a1638891"
      },
      "source": [
        "len(test_data)"
      ],
      "execution_count": null,
      "outputs": [
        {
          "output_type": "execute_result",
          "data": {
            "text/plain": [
              "440"
            ]
          },
          "metadata": {},
          "execution_count": 101
        }
      ]
    },
    {
      "cell_type": "code",
      "metadata": {
        "colab": {
          "base_uri": "https://localhost:8080/"
        },
        "id": "sxexkmQVcT61",
        "outputId": "d477ec7a-92d0-47f4-bf1b-bed85dbc04e2"
      },
      "source": [
        "x_input=test_data[340:].reshape(1,-1)\n",
        "x_input.shape"
      ],
      "execution_count": null,
      "outputs": [
        {
          "output_type": "execute_result",
          "data": {
            "text/plain": [
              "(1, 100)"
            ]
          },
          "metadata": {},
          "execution_count": 102
        }
      ]
    },
    {
      "cell_type": "code",
      "metadata": {
        "id": "uhahm1cAdfJd"
      },
      "source": [
        "temp_input=list(x_input)\n",
        "temp_input=temp_input[0].tolist()\n"
      ],
      "execution_count": null,
      "outputs": []
    },
    {
      "cell_type": "code",
      "metadata": {
        "colab": {
          "base_uri": "https://localhost:8080/"
        },
        "id": "nGNdMLFleBWA",
        "outputId": "bacc9273-702c-4700-d175-9a69d2114aec"
      },
      "source": [
        "#demonstrate prediction for next 30 days\n",
        "from numpy import array\n",
        "output=[]\n",
        "n_steps=100\n",
        "i=0\n",
        "while (i<30):\n",
        "\n",
        "  if (len(temp_input)>100):\n",
        "    x_input=np.array(temp_input[1:])\n",
        "    print(\"{} day input {}\".format(i,x_input))\n",
        "    x_input=x_input.reshape(1,-1)\n",
        "    x_input=x_input.reshape((1,n_steps,1))\n",
        "    yhat=model.predict(x_input,verbose=0)\n",
        "    print(\"{} day output {}\".format(i,yhat))\n",
        "    temp_input.extend(yhat[0].tolist())\n",
        "    temp_input=temp_input[1:]\n",
        "    output.extend(yhat.tolist())\n",
        "    i=i+1\n",
        "  else:\n",
        "    x_input=x_input.reshape((1,n_steps,1))\n",
        "    yhat=model.predict(x_input,verbose=0)\n",
        "    print(yhat[0])\n",
        "    temp_input.extend(yhat[0].tolist())\n",
        "    print(len(temp_input))\n",
        "    output.extend(yhat.tolist())\n",
        "    i=i+1\n",
        "  \n"
      ],
      "execution_count": null,
      "outputs": [
        {
          "output_type": "stream",
          "name": "stdout",
          "text": [
            "[0.10668696]\n",
            "101\n",
            "1 day input [0.06001798 0.06119187 0.05279984 0.05045207 0.04260952 0.0481043\n",
            " 0.05429842 0.05135122 0.04780459 0.04740497 0.05394875 0.04925321\n",
            " 0.05342425 0.05292472 0.05279984 0.04887857 0.04720516 0.04638094\n",
            " 0.04832909 0.04453269 0.05040212 0.05042709 0.0525251  0.05349918\n",
            " 0.0509516  0.05404865 0.06186623 0.05976822 0.06104201 0.06513812\n",
            " 0.06181627 0.06641191 0.07060792 0.06990859 0.06918427 0.06843499\n",
            " 0.07260602 0.07647735 0.07805085 0.07882512 0.08554373 0.09068885\n",
            " 0.0970578  0.09373595 0.09840651 0.09688296 0.09973026 0.10849693\n",
            " 0.10682352 0.10160348 0.09176283 0.10100405 0.09913083 0.1026275\n",
            " 0.10702333 0.10809731 0.10255258 0.09808182 0.09973026 0.10027973\n",
            " 0.09943054 0.10402618 0.10300215 0.10327689 0.10097907 0.10085419\n",
            " 0.09963035 0.10027973 0.10784754 0.10837205 0.11341725 0.11109446\n",
            " 0.10152855 0.10237774 0.10609921 0.1098956  0.10967081 0.1065238\n",
            " 0.10447575 0.10712323 0.11841251 0.11519057 0.11688896 0.11973625\n",
            " 0.12135971 0.12732904 0.12338279 0.12078525 0.10804736 0.10949598\n",
            " 0.10592437 0.10819721 0.10759778 0.10077926 0.09298666 0.0942105\n",
            " 0.10025476 0.10270243 0.10292722 0.10668696]\n",
            "1 day output [[0.10706492]]\n",
            "2 day input [0.06119187 0.05279984 0.05045207 0.04260952 0.0481043  0.05429842\n",
            " 0.05135122 0.04780459 0.04740497 0.05394875 0.04925321 0.05342425\n",
            " 0.05292472 0.05279984 0.04887857 0.04720516 0.04638094 0.04832909\n",
            " 0.04453269 0.05040212 0.05042709 0.0525251  0.05349918 0.0509516\n",
            " 0.05404865 0.06186623 0.05976822 0.06104201 0.06513812 0.06181627\n",
            " 0.06641191 0.07060792 0.06990859 0.06918427 0.06843499 0.07260602\n",
            " 0.07647735 0.07805085 0.07882512 0.08554373 0.09068885 0.0970578\n",
            " 0.09373595 0.09840651 0.09688296 0.09973026 0.10849693 0.10682352\n",
            " 0.10160348 0.09176283 0.10100405 0.09913083 0.1026275  0.10702333\n",
            " 0.10809731 0.10255258 0.09808182 0.09973026 0.10027973 0.09943054\n",
            " 0.10402618 0.10300215 0.10327689 0.10097907 0.10085419 0.09963035\n",
            " 0.10027973 0.10784754 0.10837205 0.11341725 0.11109446 0.10152855\n",
            " 0.10237774 0.10609921 0.1098956  0.10967081 0.1065238  0.10447575\n",
            " 0.10712323 0.11841251 0.11519057 0.11688896 0.11973625 0.12135971\n",
            " 0.12732904 0.12338279 0.12078525 0.10804736 0.10949598 0.10592437\n",
            " 0.10819721 0.10759778 0.10077926 0.09298666 0.0942105  0.10025476\n",
            " 0.10270243 0.10292722 0.10668696 0.10706492]\n",
            "2 day output [[0.10834068]]\n",
            "3 day input [0.05279984 0.05045207 0.04260952 0.0481043  0.05429842 0.05135122\n",
            " 0.04780459 0.04740497 0.05394875 0.04925321 0.05342425 0.05292472\n",
            " 0.05279984 0.04887857 0.04720516 0.04638094 0.04832909 0.04453269\n",
            " 0.05040212 0.05042709 0.0525251  0.05349918 0.0509516  0.05404865\n",
            " 0.06186623 0.05976822 0.06104201 0.06513812 0.06181627 0.06641191\n",
            " 0.07060792 0.06990859 0.06918427 0.06843499 0.07260602 0.07647735\n",
            " 0.07805085 0.07882512 0.08554373 0.09068885 0.0970578  0.09373595\n",
            " 0.09840651 0.09688296 0.09973026 0.10849693 0.10682352 0.10160348\n",
            " 0.09176283 0.10100405 0.09913083 0.1026275  0.10702333 0.10809731\n",
            " 0.10255258 0.09808182 0.09973026 0.10027973 0.09943054 0.10402618\n",
            " 0.10300215 0.10327689 0.10097907 0.10085419 0.09963035 0.10027973\n",
            " 0.10784754 0.10837205 0.11341725 0.11109446 0.10152855 0.10237774\n",
            " 0.10609921 0.1098956  0.10967081 0.1065238  0.10447575 0.10712323\n",
            " 0.11841251 0.11519057 0.11688896 0.11973625 0.12135971 0.12732904\n",
            " 0.12338279 0.12078525 0.10804736 0.10949598 0.10592437 0.10819721\n",
            " 0.10759778 0.10077926 0.09298666 0.0942105  0.10025476 0.10270243\n",
            " 0.10292722 0.10668696 0.10706492 0.10834068]\n",
            "3 day output [[0.11022103]]\n",
            "4 day input [0.05045207 0.04260952 0.0481043  0.05429842 0.05135122 0.04780459\n",
            " 0.04740497 0.05394875 0.04925321 0.05342425 0.05292472 0.05279984\n",
            " 0.04887857 0.04720516 0.04638094 0.04832909 0.04453269 0.05040212\n",
            " 0.05042709 0.0525251  0.05349918 0.0509516  0.05404865 0.06186623\n",
            " 0.05976822 0.06104201 0.06513812 0.06181627 0.06641191 0.07060792\n",
            " 0.06990859 0.06918427 0.06843499 0.07260602 0.07647735 0.07805085\n",
            " 0.07882512 0.08554373 0.09068885 0.0970578  0.09373595 0.09840651\n",
            " 0.09688296 0.09973026 0.10849693 0.10682352 0.10160348 0.09176283\n",
            " 0.10100405 0.09913083 0.1026275  0.10702333 0.10809731 0.10255258\n",
            " 0.09808182 0.09973026 0.10027973 0.09943054 0.10402618 0.10300215\n",
            " 0.10327689 0.10097907 0.10085419 0.09963035 0.10027973 0.10784754\n",
            " 0.10837205 0.11341725 0.11109446 0.10152855 0.10237774 0.10609921\n",
            " 0.1098956  0.10967081 0.1065238  0.10447575 0.10712323 0.11841251\n",
            " 0.11519057 0.11688896 0.11973625 0.12135971 0.12732904 0.12338279\n",
            " 0.12078525 0.10804736 0.10949598 0.10592437 0.10819721 0.10759778\n",
            " 0.10077926 0.09298666 0.0942105  0.10025476 0.10270243 0.10292722\n",
            " 0.10668696 0.10706492 0.10834068 0.11022103]\n",
            "4 day output [[0.11246444]]\n",
            "5 day input [0.04260952 0.0481043  0.05429842 0.05135122 0.04780459 0.04740497\n",
            " 0.05394875 0.04925321 0.05342425 0.05292472 0.05279984 0.04887857\n",
            " 0.04720516 0.04638094 0.04832909 0.04453269 0.05040212 0.05042709\n",
            " 0.0525251  0.05349918 0.0509516  0.05404865 0.06186623 0.05976822\n",
            " 0.06104201 0.06513812 0.06181627 0.06641191 0.07060792 0.06990859\n",
            " 0.06918427 0.06843499 0.07260602 0.07647735 0.07805085 0.07882512\n",
            " 0.08554373 0.09068885 0.0970578  0.09373595 0.09840651 0.09688296\n",
            " 0.09973026 0.10849693 0.10682352 0.10160348 0.09176283 0.10100405\n",
            " 0.09913083 0.1026275  0.10702333 0.10809731 0.10255258 0.09808182\n",
            " 0.09973026 0.10027973 0.09943054 0.10402618 0.10300215 0.10327689\n",
            " 0.10097907 0.10085419 0.09963035 0.10027973 0.10784754 0.10837205\n",
            " 0.11341725 0.11109446 0.10152855 0.10237774 0.10609921 0.1098956\n",
            " 0.10967081 0.1065238  0.10447575 0.10712323 0.11841251 0.11519057\n",
            " 0.11688896 0.11973625 0.12135971 0.12732904 0.12338279 0.12078525\n",
            " 0.10804736 0.10949598 0.10592437 0.10819721 0.10759778 0.10077926\n",
            " 0.09298666 0.0942105  0.10025476 0.10270243 0.10292722 0.10668696\n",
            " 0.10706492 0.10834068 0.11022103 0.11246444]\n",
            "5 day output [[0.1149047]]\n",
            "6 day input [0.0481043  0.05429842 0.05135122 0.04780459 0.04740497 0.05394875\n",
            " 0.04925321 0.05342425 0.05292472 0.05279984 0.04887857 0.04720516\n",
            " 0.04638094 0.04832909 0.04453269 0.05040212 0.05042709 0.0525251\n",
            " 0.05349918 0.0509516  0.05404865 0.06186623 0.05976822 0.06104201\n",
            " 0.06513812 0.06181627 0.06641191 0.07060792 0.06990859 0.06918427\n",
            " 0.06843499 0.07260602 0.07647735 0.07805085 0.07882512 0.08554373\n",
            " 0.09068885 0.0970578  0.09373595 0.09840651 0.09688296 0.09973026\n",
            " 0.10849693 0.10682352 0.10160348 0.09176283 0.10100405 0.09913083\n",
            " 0.1026275  0.10702333 0.10809731 0.10255258 0.09808182 0.09973026\n",
            " 0.10027973 0.09943054 0.10402618 0.10300215 0.10327689 0.10097907\n",
            " 0.10085419 0.09963035 0.10027973 0.10784754 0.10837205 0.11341725\n",
            " 0.11109446 0.10152855 0.10237774 0.10609921 0.1098956  0.10967081\n",
            " 0.1065238  0.10447575 0.10712323 0.11841251 0.11519057 0.11688896\n",
            " 0.11973625 0.12135971 0.12732904 0.12338279 0.12078525 0.10804736\n",
            " 0.10949598 0.10592437 0.10819721 0.10759778 0.10077926 0.09298666\n",
            " 0.0942105  0.10025476 0.10270243 0.10292722 0.10668696 0.10706492\n",
            " 0.10834068 0.11022103 0.11246444 0.1149047 ]\n",
            "6 day output [[0.11744061]]\n",
            "7 day input [0.05429842 0.05135122 0.04780459 0.04740497 0.05394875 0.04925321\n",
            " 0.05342425 0.05292472 0.05279984 0.04887857 0.04720516 0.04638094\n",
            " 0.04832909 0.04453269 0.05040212 0.05042709 0.0525251  0.05349918\n",
            " 0.0509516  0.05404865 0.06186623 0.05976822 0.06104201 0.06513812\n",
            " 0.06181627 0.06641191 0.07060792 0.06990859 0.06918427 0.06843499\n",
            " 0.07260602 0.07647735 0.07805085 0.07882512 0.08554373 0.09068885\n",
            " 0.0970578  0.09373595 0.09840651 0.09688296 0.09973026 0.10849693\n",
            " 0.10682352 0.10160348 0.09176283 0.10100405 0.09913083 0.1026275\n",
            " 0.10702333 0.10809731 0.10255258 0.09808182 0.09973026 0.10027973\n",
            " 0.09943054 0.10402618 0.10300215 0.10327689 0.10097907 0.10085419\n",
            " 0.09963035 0.10027973 0.10784754 0.10837205 0.11341725 0.11109446\n",
            " 0.10152855 0.10237774 0.10609921 0.1098956  0.10967081 0.1065238\n",
            " 0.10447575 0.10712323 0.11841251 0.11519057 0.11688896 0.11973625\n",
            " 0.12135971 0.12732904 0.12338279 0.12078525 0.10804736 0.10949598\n",
            " 0.10592437 0.10819721 0.10759778 0.10077926 0.09298666 0.0942105\n",
            " 0.10025476 0.10270243 0.10292722 0.10668696 0.10706492 0.10834068\n",
            " 0.11022103 0.11246444 0.1149047  0.11744061]\n",
            "7 day output [[0.12001593]]\n",
            "8 day input [0.05135122 0.04780459 0.04740497 0.05394875 0.04925321 0.05342425\n",
            " 0.05292472 0.05279984 0.04887857 0.04720516 0.04638094 0.04832909\n",
            " 0.04453269 0.05040212 0.05042709 0.0525251  0.05349918 0.0509516\n",
            " 0.05404865 0.06186623 0.05976822 0.06104201 0.06513812 0.06181627\n",
            " 0.06641191 0.07060792 0.06990859 0.06918427 0.06843499 0.07260602\n",
            " 0.07647735 0.07805085 0.07882512 0.08554373 0.09068885 0.0970578\n",
            " 0.09373595 0.09840651 0.09688296 0.09973026 0.10849693 0.10682352\n",
            " 0.10160348 0.09176283 0.10100405 0.09913083 0.1026275  0.10702333\n",
            " 0.10809731 0.10255258 0.09808182 0.09973026 0.10027973 0.09943054\n",
            " 0.10402618 0.10300215 0.10327689 0.10097907 0.10085419 0.09963035\n",
            " 0.10027973 0.10784754 0.10837205 0.11341725 0.11109446 0.10152855\n",
            " 0.10237774 0.10609921 0.1098956  0.10967081 0.1065238  0.10447575\n",
            " 0.10712323 0.11841251 0.11519057 0.11688896 0.11973625 0.12135971\n",
            " 0.12732904 0.12338279 0.12078525 0.10804736 0.10949598 0.10592437\n",
            " 0.10819721 0.10759778 0.10077926 0.09298666 0.0942105  0.10025476\n",
            " 0.10270243 0.10292722 0.10668696 0.10706492 0.10834068 0.11022103\n",
            " 0.11246444 0.1149047  0.11744061 0.12001593]\n",
            "8 day output [[0.12260097]]\n",
            "9 day input [0.04780459 0.04740497 0.05394875 0.04925321 0.05342425 0.05292472\n",
            " 0.05279984 0.04887857 0.04720516 0.04638094 0.04832909 0.04453269\n",
            " 0.05040212 0.05042709 0.0525251  0.05349918 0.0509516  0.05404865\n",
            " 0.06186623 0.05976822 0.06104201 0.06513812 0.06181627 0.06641191\n",
            " 0.07060792 0.06990859 0.06918427 0.06843499 0.07260602 0.07647735\n",
            " 0.07805085 0.07882512 0.08554373 0.09068885 0.0970578  0.09373595\n",
            " 0.09840651 0.09688296 0.09973026 0.10849693 0.10682352 0.10160348\n",
            " 0.09176283 0.10100405 0.09913083 0.1026275  0.10702333 0.10809731\n",
            " 0.10255258 0.09808182 0.09973026 0.10027973 0.09943054 0.10402618\n",
            " 0.10300215 0.10327689 0.10097907 0.10085419 0.09963035 0.10027973\n",
            " 0.10784754 0.10837205 0.11341725 0.11109446 0.10152855 0.10237774\n",
            " 0.10609921 0.1098956  0.10967081 0.1065238  0.10447575 0.10712323\n",
            " 0.11841251 0.11519057 0.11688896 0.11973625 0.12135971 0.12732904\n",
            " 0.12338279 0.12078525 0.10804736 0.10949598 0.10592437 0.10819721\n",
            " 0.10759778 0.10077926 0.09298666 0.0942105  0.10025476 0.10270243\n",
            " 0.10292722 0.10668696 0.10706492 0.10834068 0.11022103 0.11246444\n",
            " 0.1149047  0.11744061 0.12001593 0.12260097]\n",
            "9 day output [[0.12517998]]\n",
            "10 day input [0.04740497 0.05394875 0.04925321 0.05342425 0.05292472 0.05279984\n",
            " 0.04887857 0.04720516 0.04638094 0.04832909 0.04453269 0.05040212\n",
            " 0.05042709 0.0525251  0.05349918 0.0509516  0.05404865 0.06186623\n",
            " 0.05976822 0.06104201 0.06513812 0.06181627 0.06641191 0.07060792\n",
            " 0.06990859 0.06918427 0.06843499 0.07260602 0.07647735 0.07805085\n",
            " 0.07882512 0.08554373 0.09068885 0.0970578  0.09373595 0.09840651\n",
            " 0.09688296 0.09973026 0.10849693 0.10682352 0.10160348 0.09176283\n",
            " 0.10100405 0.09913083 0.1026275  0.10702333 0.10809731 0.10255258\n",
            " 0.09808182 0.09973026 0.10027973 0.09943054 0.10402618 0.10300215\n",
            " 0.10327689 0.10097907 0.10085419 0.09963035 0.10027973 0.10784754\n",
            " 0.10837205 0.11341725 0.11109446 0.10152855 0.10237774 0.10609921\n",
            " 0.1098956  0.10967081 0.1065238  0.10447575 0.10712323 0.11841251\n",
            " 0.11519057 0.11688896 0.11973625 0.12135971 0.12732904 0.12338279\n",
            " 0.12078525 0.10804736 0.10949598 0.10592437 0.10819721 0.10759778\n",
            " 0.10077926 0.09298666 0.0942105  0.10025476 0.10270243 0.10292722\n",
            " 0.10668696 0.10706492 0.10834068 0.11022103 0.11246444 0.1149047\n",
            " 0.11744061 0.12001593 0.12260097 0.12517998]\n",
            "10 day output [[0.12774347]]\n",
            "11 day input [0.05394875 0.04925321 0.05342425 0.05292472 0.05279984 0.04887857\n",
            " 0.04720516 0.04638094 0.04832909 0.04453269 0.05040212 0.05042709\n",
            " 0.0525251  0.05349918 0.0509516  0.05404865 0.06186623 0.05976822\n",
            " 0.06104201 0.06513812 0.06181627 0.06641191 0.07060792 0.06990859\n",
            " 0.06918427 0.06843499 0.07260602 0.07647735 0.07805085 0.07882512\n",
            " 0.08554373 0.09068885 0.0970578  0.09373595 0.09840651 0.09688296\n",
            " 0.09973026 0.10849693 0.10682352 0.10160348 0.09176283 0.10100405\n",
            " 0.09913083 0.1026275  0.10702333 0.10809731 0.10255258 0.09808182\n",
            " 0.09973026 0.10027973 0.09943054 0.10402618 0.10300215 0.10327689\n",
            " 0.10097907 0.10085419 0.09963035 0.10027973 0.10784754 0.10837205\n",
            " 0.11341725 0.11109446 0.10152855 0.10237774 0.10609921 0.1098956\n",
            " 0.10967081 0.1065238  0.10447575 0.10712323 0.11841251 0.11519057\n",
            " 0.11688896 0.11973625 0.12135971 0.12732904 0.12338279 0.12078525\n",
            " 0.10804736 0.10949598 0.10592437 0.10819721 0.10759778 0.10077926\n",
            " 0.09298666 0.0942105  0.10025476 0.10270243 0.10292722 0.10668696\n",
            " 0.10706492 0.10834068 0.11022103 0.11246444 0.1149047  0.11744061\n",
            " 0.12001593 0.12260097 0.12517998 0.12774347]\n",
            "11 day output [[0.13028449]]\n",
            "12 day input [0.04925321 0.05342425 0.05292472 0.05279984 0.04887857 0.04720516\n",
            " 0.04638094 0.04832909 0.04453269 0.05040212 0.05042709 0.0525251\n",
            " 0.05349918 0.0509516  0.05404865 0.06186623 0.05976822 0.06104201\n",
            " 0.06513812 0.06181627 0.06641191 0.07060792 0.06990859 0.06918427\n",
            " 0.06843499 0.07260602 0.07647735 0.07805085 0.07882512 0.08554373\n",
            " 0.09068885 0.0970578  0.09373595 0.09840651 0.09688296 0.09973026\n",
            " 0.10849693 0.10682352 0.10160348 0.09176283 0.10100405 0.09913083\n",
            " 0.1026275  0.10702333 0.10809731 0.10255258 0.09808182 0.09973026\n",
            " 0.10027973 0.09943054 0.10402618 0.10300215 0.10327689 0.10097907\n",
            " 0.10085419 0.09963035 0.10027973 0.10784754 0.10837205 0.11341725\n",
            " 0.11109446 0.10152855 0.10237774 0.10609921 0.1098956  0.10967081\n",
            " 0.1065238  0.10447575 0.10712323 0.11841251 0.11519057 0.11688896\n",
            " 0.11973625 0.12135971 0.12732904 0.12338279 0.12078525 0.10804736\n",
            " 0.10949598 0.10592437 0.10819721 0.10759778 0.10077926 0.09298666\n",
            " 0.0942105  0.10025476 0.10270243 0.10292722 0.10668696 0.10706492\n",
            " 0.10834068 0.11022103 0.11246444 0.1149047  0.11744061 0.12001593\n",
            " 0.12260097 0.12517998 0.12774347 0.13028449]\n",
            "12 day output [[0.13279733]]\n",
            "13 day input [0.05342425 0.05292472 0.05279984 0.04887857 0.04720516 0.04638094\n",
            " 0.04832909 0.04453269 0.05040212 0.05042709 0.0525251  0.05349918\n",
            " 0.0509516  0.05404865 0.06186623 0.05976822 0.06104201 0.06513812\n",
            " 0.06181627 0.06641191 0.07060792 0.06990859 0.06918427 0.06843499\n",
            " 0.07260602 0.07647735 0.07805085 0.07882512 0.08554373 0.09068885\n",
            " 0.0970578  0.09373595 0.09840651 0.09688296 0.09973026 0.10849693\n",
            " 0.10682352 0.10160348 0.09176283 0.10100405 0.09913083 0.1026275\n",
            " 0.10702333 0.10809731 0.10255258 0.09808182 0.09973026 0.10027973\n",
            " 0.09943054 0.10402618 0.10300215 0.10327689 0.10097907 0.10085419\n",
            " 0.09963035 0.10027973 0.10784754 0.10837205 0.11341725 0.11109446\n",
            " 0.10152855 0.10237774 0.10609921 0.1098956  0.10967081 0.1065238\n",
            " 0.10447575 0.10712323 0.11841251 0.11519057 0.11688896 0.11973625\n",
            " 0.12135971 0.12732904 0.12338279 0.12078525 0.10804736 0.10949598\n",
            " 0.10592437 0.10819721 0.10759778 0.10077926 0.09298666 0.0942105\n",
            " 0.10025476 0.10270243 0.10292722 0.10668696 0.10706492 0.10834068\n",
            " 0.11022103 0.11246444 0.1149047  0.11744061 0.12001593 0.12260097\n",
            " 0.12517998 0.12774347 0.13028449 0.13279733]\n",
            "13 day output [[0.13527708]]\n",
            "14 day input [0.05292472 0.05279984 0.04887857 0.04720516 0.04638094 0.04832909\n",
            " 0.04453269 0.05040212 0.05042709 0.0525251  0.05349918 0.0509516\n",
            " 0.05404865 0.06186623 0.05976822 0.06104201 0.06513812 0.06181627\n",
            " 0.06641191 0.07060792 0.06990859 0.06918427 0.06843499 0.07260602\n",
            " 0.07647735 0.07805085 0.07882512 0.08554373 0.09068885 0.0970578\n",
            " 0.09373595 0.09840651 0.09688296 0.09973026 0.10849693 0.10682352\n",
            " 0.10160348 0.09176283 0.10100405 0.09913083 0.1026275  0.10702333\n",
            " 0.10809731 0.10255258 0.09808182 0.09973026 0.10027973 0.09943054\n",
            " 0.10402618 0.10300215 0.10327689 0.10097907 0.10085419 0.09963035\n",
            " 0.10027973 0.10784754 0.10837205 0.11341725 0.11109446 0.10152855\n",
            " 0.10237774 0.10609921 0.1098956  0.10967081 0.1065238  0.10447575\n",
            " 0.10712323 0.11841251 0.11519057 0.11688896 0.11973625 0.12135971\n",
            " 0.12732904 0.12338279 0.12078525 0.10804736 0.10949598 0.10592437\n",
            " 0.10819721 0.10759778 0.10077926 0.09298666 0.0942105  0.10025476\n",
            " 0.10270243 0.10292722 0.10668696 0.10706492 0.10834068 0.11022103\n",
            " 0.11246444 0.1149047  0.11744061 0.12001593 0.12260097 0.12517998\n",
            " 0.12774347 0.13028449 0.13279733 0.13527708]\n",
            "14 day output [[0.13771987]]\n",
            "15 day input [0.05279984 0.04887857 0.04720516 0.04638094 0.04832909 0.04453269\n",
            " 0.05040212 0.05042709 0.0525251  0.05349918 0.0509516  0.05404865\n",
            " 0.06186623 0.05976822 0.06104201 0.06513812 0.06181627 0.06641191\n",
            " 0.07060792 0.06990859 0.06918427 0.06843499 0.07260602 0.07647735\n",
            " 0.07805085 0.07882512 0.08554373 0.09068885 0.0970578  0.09373595\n",
            " 0.09840651 0.09688296 0.09973026 0.10849693 0.10682352 0.10160348\n",
            " 0.09176283 0.10100405 0.09913083 0.1026275  0.10702333 0.10809731\n",
            " 0.10255258 0.09808182 0.09973026 0.10027973 0.09943054 0.10402618\n",
            " 0.10300215 0.10327689 0.10097907 0.10085419 0.09963035 0.10027973\n",
            " 0.10784754 0.10837205 0.11341725 0.11109446 0.10152855 0.10237774\n",
            " 0.10609921 0.1098956  0.10967081 0.1065238  0.10447575 0.10712323\n",
            " 0.11841251 0.11519057 0.11688896 0.11973625 0.12135971 0.12732904\n",
            " 0.12338279 0.12078525 0.10804736 0.10949598 0.10592437 0.10819721\n",
            " 0.10759778 0.10077926 0.09298666 0.0942105  0.10025476 0.10270243\n",
            " 0.10292722 0.10668696 0.10706492 0.10834068 0.11022103 0.11246444\n",
            " 0.1149047  0.11744061 0.12001593 0.12260097 0.12517998 0.12774347\n",
            " 0.13028449 0.13279733 0.13527708 0.13771987]\n",
            "15 day output [[0.1401228]]\n",
            "16 day input [0.04887857 0.04720516 0.04638094 0.04832909 0.04453269 0.05040212\n",
            " 0.05042709 0.0525251  0.05349918 0.0509516  0.05404865 0.06186623\n",
            " 0.05976822 0.06104201 0.06513812 0.06181627 0.06641191 0.07060792\n",
            " 0.06990859 0.06918427 0.06843499 0.07260602 0.07647735 0.07805085\n",
            " 0.07882512 0.08554373 0.09068885 0.0970578  0.09373595 0.09840651\n",
            " 0.09688296 0.09973026 0.10849693 0.10682352 0.10160348 0.09176283\n",
            " 0.10100405 0.09913083 0.1026275  0.10702333 0.10809731 0.10255258\n",
            " 0.09808182 0.09973026 0.10027973 0.09943054 0.10402618 0.10300215\n",
            " 0.10327689 0.10097907 0.10085419 0.09963035 0.10027973 0.10784754\n",
            " 0.10837205 0.11341725 0.11109446 0.10152855 0.10237774 0.10609921\n",
            " 0.1098956  0.10967081 0.1065238  0.10447575 0.10712323 0.11841251\n",
            " 0.11519057 0.11688896 0.11973625 0.12135971 0.12732904 0.12338279\n",
            " 0.12078525 0.10804736 0.10949598 0.10592437 0.10819721 0.10759778\n",
            " 0.10077926 0.09298666 0.0942105  0.10025476 0.10270243 0.10292722\n",
            " 0.10668696 0.10706492 0.10834068 0.11022103 0.11246444 0.1149047\n",
            " 0.11744061 0.12001593 0.12260097 0.12517998 0.12774347 0.13028449\n",
            " 0.13279733 0.13527708 0.13771987 0.1401228 ]\n",
            "16 day output [[0.14248422]]\n",
            "17 day input [0.04720516 0.04638094 0.04832909 0.04453269 0.05040212 0.05042709\n",
            " 0.0525251  0.05349918 0.0509516  0.05404865 0.06186623 0.05976822\n",
            " 0.06104201 0.06513812 0.06181627 0.06641191 0.07060792 0.06990859\n",
            " 0.06918427 0.06843499 0.07260602 0.07647735 0.07805085 0.07882512\n",
            " 0.08554373 0.09068885 0.0970578  0.09373595 0.09840651 0.09688296\n",
            " 0.09973026 0.10849693 0.10682352 0.10160348 0.09176283 0.10100405\n",
            " 0.09913083 0.1026275  0.10702333 0.10809731 0.10255258 0.09808182\n",
            " 0.09973026 0.10027973 0.09943054 0.10402618 0.10300215 0.10327689\n",
            " 0.10097907 0.10085419 0.09963035 0.10027973 0.10784754 0.10837205\n",
            " 0.11341725 0.11109446 0.10152855 0.10237774 0.10609921 0.1098956\n",
            " 0.10967081 0.1065238  0.10447575 0.10712323 0.11841251 0.11519057\n",
            " 0.11688896 0.11973625 0.12135971 0.12732904 0.12338279 0.12078525\n",
            " 0.10804736 0.10949598 0.10592437 0.10819721 0.10759778 0.10077926\n",
            " 0.09298666 0.0942105  0.10025476 0.10270243 0.10292722 0.10668696\n",
            " 0.10706492 0.10834068 0.11022103 0.11246444 0.1149047  0.11744061\n",
            " 0.12001593 0.12260097 0.12517998 0.12774347 0.13028449 0.13279733\n",
            " 0.13527708 0.13771987 0.1401228  0.14248422]\n",
            "17 day output [[0.14480343]]\n",
            "18 day input [0.04638094 0.04832909 0.04453269 0.05040212 0.05042709 0.0525251\n",
            " 0.05349918 0.0509516  0.05404865 0.06186623 0.05976822 0.06104201\n",
            " 0.06513812 0.06181627 0.06641191 0.07060792 0.06990859 0.06918427\n",
            " 0.06843499 0.07260602 0.07647735 0.07805085 0.07882512 0.08554373\n",
            " 0.09068885 0.0970578  0.09373595 0.09840651 0.09688296 0.09973026\n",
            " 0.10849693 0.10682352 0.10160348 0.09176283 0.10100405 0.09913083\n",
            " 0.1026275  0.10702333 0.10809731 0.10255258 0.09808182 0.09973026\n",
            " 0.10027973 0.09943054 0.10402618 0.10300215 0.10327689 0.10097907\n",
            " 0.10085419 0.09963035 0.10027973 0.10784754 0.10837205 0.11341725\n",
            " 0.11109446 0.10152855 0.10237774 0.10609921 0.1098956  0.10967081\n",
            " 0.1065238  0.10447575 0.10712323 0.11841251 0.11519057 0.11688896\n",
            " 0.11973625 0.12135971 0.12732904 0.12338279 0.12078525 0.10804736\n",
            " 0.10949598 0.10592437 0.10819721 0.10759778 0.10077926 0.09298666\n",
            " 0.0942105  0.10025476 0.10270243 0.10292722 0.10668696 0.10706492\n",
            " 0.10834068 0.11022103 0.11246444 0.1149047  0.11744061 0.12001593\n",
            " 0.12260097 0.12517998 0.12774347 0.13028449 0.13279733 0.13527708\n",
            " 0.13771987 0.1401228  0.14248422 0.14480343]\n",
            "18 day output [[0.14708073]]\n",
            "19 day input [0.04832909 0.04453269 0.05040212 0.05042709 0.0525251  0.05349918\n",
            " 0.0509516  0.05404865 0.06186623 0.05976822 0.06104201 0.06513812\n",
            " 0.06181627 0.06641191 0.07060792 0.06990859 0.06918427 0.06843499\n",
            " 0.07260602 0.07647735 0.07805085 0.07882512 0.08554373 0.09068885\n",
            " 0.0970578  0.09373595 0.09840651 0.09688296 0.09973026 0.10849693\n",
            " 0.10682352 0.10160348 0.09176283 0.10100405 0.09913083 0.1026275\n",
            " 0.10702333 0.10809731 0.10255258 0.09808182 0.09973026 0.10027973\n",
            " 0.09943054 0.10402618 0.10300215 0.10327689 0.10097907 0.10085419\n",
            " 0.09963035 0.10027973 0.10784754 0.10837205 0.11341725 0.11109446\n",
            " 0.10152855 0.10237774 0.10609921 0.1098956  0.10967081 0.1065238\n",
            " 0.10447575 0.10712323 0.11841251 0.11519057 0.11688896 0.11973625\n",
            " 0.12135971 0.12732904 0.12338279 0.12078525 0.10804736 0.10949598\n",
            " 0.10592437 0.10819721 0.10759778 0.10077926 0.09298666 0.0942105\n",
            " 0.10025476 0.10270243 0.10292722 0.10668696 0.10706492 0.10834068\n",
            " 0.11022103 0.11246444 0.1149047  0.11744061 0.12001593 0.12260097\n",
            " 0.12517998 0.12774347 0.13028449 0.13279733 0.13527708 0.13771987\n",
            " 0.1401228  0.14248422 0.14480343 0.14708073]\n",
            "19 day output [[0.14931715]]\n",
            "20 day input [0.04453269 0.05040212 0.05042709 0.0525251  0.05349918 0.0509516\n",
            " 0.05404865 0.06186623 0.05976822 0.06104201 0.06513812 0.06181627\n",
            " 0.06641191 0.07060792 0.06990859 0.06918427 0.06843499 0.07260602\n",
            " 0.07647735 0.07805085 0.07882512 0.08554373 0.09068885 0.0970578\n",
            " 0.09373595 0.09840651 0.09688296 0.09973026 0.10849693 0.10682352\n",
            " 0.10160348 0.09176283 0.10100405 0.09913083 0.1026275  0.10702333\n",
            " 0.10809731 0.10255258 0.09808182 0.09973026 0.10027973 0.09943054\n",
            " 0.10402618 0.10300215 0.10327689 0.10097907 0.10085419 0.09963035\n",
            " 0.10027973 0.10784754 0.10837205 0.11341725 0.11109446 0.10152855\n",
            " 0.10237774 0.10609921 0.1098956  0.10967081 0.1065238  0.10447575\n",
            " 0.10712323 0.11841251 0.11519057 0.11688896 0.11973625 0.12135971\n",
            " 0.12732904 0.12338279 0.12078525 0.10804736 0.10949598 0.10592437\n",
            " 0.10819721 0.10759778 0.10077926 0.09298666 0.0942105  0.10025476\n",
            " 0.10270243 0.10292722 0.10668696 0.10706492 0.10834068 0.11022103\n",
            " 0.11246444 0.1149047  0.11744061 0.12001593 0.12260097 0.12517998\n",
            " 0.12774347 0.13028449 0.13279733 0.13527708 0.13771987 0.1401228\n",
            " 0.14248422 0.14480343 0.14708073 0.14931715]\n",
            "20 day output [[0.15151419]]\n",
            "21 day input [0.05040212 0.05042709 0.0525251  0.05349918 0.0509516  0.05404865\n",
            " 0.06186623 0.05976822 0.06104201 0.06513812 0.06181627 0.06641191\n",
            " 0.07060792 0.06990859 0.06918427 0.06843499 0.07260602 0.07647735\n",
            " 0.07805085 0.07882512 0.08554373 0.09068885 0.0970578  0.09373595\n",
            " 0.09840651 0.09688296 0.09973026 0.10849693 0.10682352 0.10160348\n",
            " 0.09176283 0.10100405 0.09913083 0.1026275  0.10702333 0.10809731\n",
            " 0.10255258 0.09808182 0.09973026 0.10027973 0.09943054 0.10402618\n",
            " 0.10300215 0.10327689 0.10097907 0.10085419 0.09963035 0.10027973\n",
            " 0.10784754 0.10837205 0.11341725 0.11109446 0.10152855 0.10237774\n",
            " 0.10609921 0.1098956  0.10967081 0.1065238  0.10447575 0.10712323\n",
            " 0.11841251 0.11519057 0.11688896 0.11973625 0.12135971 0.12732904\n",
            " 0.12338279 0.12078525 0.10804736 0.10949598 0.10592437 0.10819721\n",
            " 0.10759778 0.10077926 0.09298666 0.0942105  0.10025476 0.10270243\n",
            " 0.10292722 0.10668696 0.10706492 0.10834068 0.11022103 0.11246444\n",
            " 0.1149047  0.11744061 0.12001593 0.12260097 0.12517998 0.12774347\n",
            " 0.13028449 0.13279733 0.13527708 0.13771987 0.1401228  0.14248422\n",
            " 0.14480343 0.14708073 0.14931715 0.15151419]\n",
            "21 day output [[0.15367386]]\n",
            "22 day input [0.05042709 0.0525251  0.05349918 0.0509516  0.05404865 0.06186623\n",
            " 0.05976822 0.06104201 0.06513812 0.06181627 0.06641191 0.07060792\n",
            " 0.06990859 0.06918427 0.06843499 0.07260602 0.07647735 0.07805085\n",
            " 0.07882512 0.08554373 0.09068885 0.0970578  0.09373595 0.09840651\n",
            " 0.09688296 0.09973026 0.10849693 0.10682352 0.10160348 0.09176283\n",
            " 0.10100405 0.09913083 0.1026275  0.10702333 0.10809731 0.10255258\n",
            " 0.09808182 0.09973026 0.10027973 0.09943054 0.10402618 0.10300215\n",
            " 0.10327689 0.10097907 0.10085419 0.09963035 0.10027973 0.10784754\n",
            " 0.10837205 0.11341725 0.11109446 0.10152855 0.10237774 0.10609921\n",
            " 0.1098956  0.10967081 0.1065238  0.10447575 0.10712323 0.11841251\n",
            " 0.11519057 0.11688896 0.11973625 0.12135971 0.12732904 0.12338279\n",
            " 0.12078525 0.10804736 0.10949598 0.10592437 0.10819721 0.10759778\n",
            " 0.10077926 0.09298666 0.0942105  0.10025476 0.10270243 0.10292722\n",
            " 0.10668696 0.10706492 0.10834068 0.11022103 0.11246444 0.1149047\n",
            " 0.11744061 0.12001593 0.12260097 0.12517998 0.12774347 0.13028449\n",
            " 0.13279733 0.13527708 0.13771987 0.1401228  0.14248422 0.14480343\n",
            " 0.14708073 0.14931715 0.15151419 0.15367386]\n",
            "22 day output [[0.15579836]]\n",
            "23 day input [0.0525251  0.05349918 0.0509516  0.05404865 0.06186623 0.05976822\n",
            " 0.06104201 0.06513812 0.06181627 0.06641191 0.07060792 0.06990859\n",
            " 0.06918427 0.06843499 0.07260602 0.07647735 0.07805085 0.07882512\n",
            " 0.08554373 0.09068885 0.0970578  0.09373595 0.09840651 0.09688296\n",
            " 0.09973026 0.10849693 0.10682352 0.10160348 0.09176283 0.10100405\n",
            " 0.09913083 0.1026275  0.10702333 0.10809731 0.10255258 0.09808182\n",
            " 0.09973026 0.10027973 0.09943054 0.10402618 0.10300215 0.10327689\n",
            " 0.10097907 0.10085419 0.09963035 0.10027973 0.10784754 0.10837205\n",
            " 0.11341725 0.11109446 0.10152855 0.10237774 0.10609921 0.1098956\n",
            " 0.10967081 0.1065238  0.10447575 0.10712323 0.11841251 0.11519057\n",
            " 0.11688896 0.11973625 0.12135971 0.12732904 0.12338279 0.12078525\n",
            " 0.10804736 0.10949598 0.10592437 0.10819721 0.10759778 0.10077926\n",
            " 0.09298666 0.0942105  0.10025476 0.10270243 0.10292722 0.10668696\n",
            " 0.10706492 0.10834068 0.11022103 0.11246444 0.1149047  0.11744061\n",
            " 0.12001593 0.12260097 0.12517998 0.12774347 0.13028449 0.13279733\n",
            " 0.13527708 0.13771987 0.1401228  0.14248422 0.14480343 0.14708073\n",
            " 0.14931715 0.15151419 0.15367386 0.15579836]\n",
            "23 day output [[0.15789005]]\n",
            "24 day input [0.05349918 0.0509516  0.05404865 0.06186623 0.05976822 0.06104201\n",
            " 0.06513812 0.06181627 0.06641191 0.07060792 0.06990859 0.06918427\n",
            " 0.06843499 0.07260602 0.07647735 0.07805085 0.07882512 0.08554373\n",
            " 0.09068885 0.0970578  0.09373595 0.09840651 0.09688296 0.09973026\n",
            " 0.10849693 0.10682352 0.10160348 0.09176283 0.10100405 0.09913083\n",
            " 0.1026275  0.10702333 0.10809731 0.10255258 0.09808182 0.09973026\n",
            " 0.10027973 0.09943054 0.10402618 0.10300215 0.10327689 0.10097907\n",
            " 0.10085419 0.09963035 0.10027973 0.10784754 0.10837205 0.11341725\n",
            " 0.11109446 0.10152855 0.10237774 0.10609921 0.1098956  0.10967081\n",
            " 0.1065238  0.10447575 0.10712323 0.11841251 0.11519057 0.11688896\n",
            " 0.11973625 0.12135971 0.12732904 0.12338279 0.12078525 0.10804736\n",
            " 0.10949598 0.10592437 0.10819721 0.10759778 0.10077926 0.09298666\n",
            " 0.0942105  0.10025476 0.10270243 0.10292722 0.10668696 0.10706492\n",
            " 0.10834068 0.11022103 0.11246444 0.1149047  0.11744061 0.12001593\n",
            " 0.12260097 0.12517998 0.12774347 0.13028449 0.13279733 0.13527708\n",
            " 0.13771987 0.1401228  0.14248422 0.14480343 0.14708073 0.14931715\n",
            " 0.15151419 0.15367386 0.15579836 0.15789005]\n",
            "24 day output [[0.1599513]]\n",
            "25 day input [0.0509516  0.05404865 0.06186623 0.05976822 0.06104201 0.06513812\n",
            " 0.06181627 0.06641191 0.07060792 0.06990859 0.06918427 0.06843499\n",
            " 0.07260602 0.07647735 0.07805085 0.07882512 0.08554373 0.09068885\n",
            " 0.0970578  0.09373595 0.09840651 0.09688296 0.09973026 0.10849693\n",
            " 0.10682352 0.10160348 0.09176283 0.10100405 0.09913083 0.1026275\n",
            " 0.10702333 0.10809731 0.10255258 0.09808182 0.09973026 0.10027973\n",
            " 0.09943054 0.10402618 0.10300215 0.10327689 0.10097907 0.10085419\n",
            " 0.09963035 0.10027973 0.10784754 0.10837205 0.11341725 0.11109446\n",
            " 0.10152855 0.10237774 0.10609921 0.1098956  0.10967081 0.1065238\n",
            " 0.10447575 0.10712323 0.11841251 0.11519057 0.11688896 0.11973625\n",
            " 0.12135971 0.12732904 0.12338279 0.12078525 0.10804736 0.10949598\n",
            " 0.10592437 0.10819721 0.10759778 0.10077926 0.09298666 0.0942105\n",
            " 0.10025476 0.10270243 0.10292722 0.10668696 0.10706492 0.10834068\n",
            " 0.11022103 0.11246444 0.1149047  0.11744061 0.12001593 0.12260097\n",
            " 0.12517998 0.12774347 0.13028449 0.13279733 0.13527708 0.13771987\n",
            " 0.1401228  0.14248422 0.14480343 0.14708073 0.14931715 0.15151419\n",
            " 0.15367386 0.15579836 0.15789005 0.1599513 ]\n",
            "25 day output [[0.16198455]]\n",
            "26 day input [0.05404865 0.06186623 0.05976822 0.06104201 0.06513812 0.06181627\n",
            " 0.06641191 0.07060792 0.06990859 0.06918427 0.06843499 0.07260602\n",
            " 0.07647735 0.07805085 0.07882512 0.08554373 0.09068885 0.0970578\n",
            " 0.09373595 0.09840651 0.09688296 0.09973026 0.10849693 0.10682352\n",
            " 0.10160348 0.09176283 0.10100405 0.09913083 0.1026275  0.10702333\n",
            " 0.10809731 0.10255258 0.09808182 0.09973026 0.10027973 0.09943054\n",
            " 0.10402618 0.10300215 0.10327689 0.10097907 0.10085419 0.09963035\n",
            " 0.10027973 0.10784754 0.10837205 0.11341725 0.11109446 0.10152855\n",
            " 0.10237774 0.10609921 0.1098956  0.10967081 0.1065238  0.10447575\n",
            " 0.10712323 0.11841251 0.11519057 0.11688896 0.11973625 0.12135971\n",
            " 0.12732904 0.12338279 0.12078525 0.10804736 0.10949598 0.10592437\n",
            " 0.10819721 0.10759778 0.10077926 0.09298666 0.0942105  0.10025476\n",
            " 0.10270243 0.10292722 0.10668696 0.10706492 0.10834068 0.11022103\n",
            " 0.11246444 0.1149047  0.11744061 0.12001593 0.12260097 0.12517998\n",
            " 0.12774347 0.13028449 0.13279733 0.13527708 0.13771987 0.1401228\n",
            " 0.14248422 0.14480343 0.14708073 0.14931715 0.15151419 0.15367386\n",
            " 0.15579836 0.15789005 0.1599513  0.16198455]\n",
            "26 day output [[0.16399199]]\n",
            "27 day input [0.06186623 0.05976822 0.06104201 0.06513812 0.06181627 0.06641191\n",
            " 0.07060792 0.06990859 0.06918427 0.06843499 0.07260602 0.07647735\n",
            " 0.07805085 0.07882512 0.08554373 0.09068885 0.0970578  0.09373595\n",
            " 0.09840651 0.09688296 0.09973026 0.10849693 0.10682352 0.10160348\n",
            " 0.09176283 0.10100405 0.09913083 0.1026275  0.10702333 0.10809731\n",
            " 0.10255258 0.09808182 0.09973026 0.10027973 0.09943054 0.10402618\n",
            " 0.10300215 0.10327689 0.10097907 0.10085419 0.09963035 0.10027973\n",
            " 0.10784754 0.10837205 0.11341725 0.11109446 0.10152855 0.10237774\n",
            " 0.10609921 0.1098956  0.10967081 0.1065238  0.10447575 0.10712323\n",
            " 0.11841251 0.11519057 0.11688896 0.11973625 0.12135971 0.12732904\n",
            " 0.12338279 0.12078525 0.10804736 0.10949598 0.10592437 0.10819721\n",
            " 0.10759778 0.10077926 0.09298666 0.0942105  0.10025476 0.10270243\n",
            " 0.10292722 0.10668696 0.10706492 0.10834068 0.11022103 0.11246444\n",
            " 0.1149047  0.11744061 0.12001593 0.12260097 0.12517998 0.12774347\n",
            " 0.13028449 0.13279733 0.13527708 0.13771987 0.1401228  0.14248422\n",
            " 0.14480343 0.14708073 0.14931715 0.15151419 0.15367386 0.15579836\n",
            " 0.15789005 0.1599513  0.16198455 0.16399199]\n",
            "27 day output [[0.16597593]]\n",
            "28 day input [0.05976822 0.06104201 0.06513812 0.06181627 0.06641191 0.07060792\n",
            " 0.06990859 0.06918427 0.06843499 0.07260602 0.07647735 0.07805085\n",
            " 0.07882512 0.08554373 0.09068885 0.0970578  0.09373595 0.09840651\n",
            " 0.09688296 0.09973026 0.10849693 0.10682352 0.10160348 0.09176283\n",
            " 0.10100405 0.09913083 0.1026275  0.10702333 0.10809731 0.10255258\n",
            " 0.09808182 0.09973026 0.10027973 0.09943054 0.10402618 0.10300215\n",
            " 0.10327689 0.10097907 0.10085419 0.09963035 0.10027973 0.10784754\n",
            " 0.10837205 0.11341725 0.11109446 0.10152855 0.10237774 0.10609921\n",
            " 0.1098956  0.10967081 0.1065238  0.10447575 0.10712323 0.11841251\n",
            " 0.11519057 0.11688896 0.11973625 0.12135971 0.12732904 0.12338279\n",
            " 0.12078525 0.10804736 0.10949598 0.10592437 0.10819721 0.10759778\n",
            " 0.10077926 0.09298666 0.0942105  0.10025476 0.10270243 0.10292722\n",
            " 0.10668696 0.10706492 0.10834068 0.11022103 0.11246444 0.1149047\n",
            " 0.11744061 0.12001593 0.12260097 0.12517998 0.12774347 0.13028449\n",
            " 0.13279733 0.13527708 0.13771987 0.1401228  0.14248422 0.14480343\n",
            " 0.14708073 0.14931715 0.15151419 0.15367386 0.15579836 0.15789005\n",
            " 0.1599513  0.16198455 0.16399199 0.16597593]\n",
            "28 day output [[0.16793829]]\n",
            "29 day input [0.06104201 0.06513812 0.06181627 0.06641191 0.07060792 0.06990859\n",
            " 0.06918427 0.06843499 0.07260602 0.07647735 0.07805085 0.07882512\n",
            " 0.08554373 0.09068885 0.0970578  0.09373595 0.09840651 0.09688296\n",
            " 0.09973026 0.10849693 0.10682352 0.10160348 0.09176283 0.10100405\n",
            " 0.09913083 0.1026275  0.10702333 0.10809731 0.10255258 0.09808182\n",
            " 0.09973026 0.10027973 0.09943054 0.10402618 0.10300215 0.10327689\n",
            " 0.10097907 0.10085419 0.09963035 0.10027973 0.10784754 0.10837205\n",
            " 0.11341725 0.11109446 0.10152855 0.10237774 0.10609921 0.1098956\n",
            " 0.10967081 0.1065238  0.10447575 0.10712323 0.11841251 0.11519057\n",
            " 0.11688896 0.11973625 0.12135971 0.12732904 0.12338279 0.12078525\n",
            " 0.10804736 0.10949598 0.10592437 0.10819721 0.10759778 0.10077926\n",
            " 0.09298666 0.0942105  0.10025476 0.10270243 0.10292722 0.10668696\n",
            " 0.10706492 0.10834068 0.11022103 0.11246444 0.1149047  0.11744061\n",
            " 0.12001593 0.12260097 0.12517998 0.12774347 0.13028449 0.13279733\n",
            " 0.13527708 0.13771987 0.1401228  0.14248422 0.14480343 0.14708073\n",
            " 0.14931715 0.15151419 0.15367386 0.15579836 0.15789005 0.1599513\n",
            " 0.16198455 0.16399199 0.16597593 0.16793829]\n",
            "29 day output [[0.16988105]]\n"
          ]
        }
      ]
    },
    {
      "cell_type": "code",
      "metadata": {
        "id": "uBwd4GrpivkF"
      },
      "source": [
        "#Assigning range of days to variables\n",
        "day_new=np.arange(1,101)\n",
        "day_pred=np.arange(101,131)"
      ],
      "execution_count": null,
      "outputs": []
    },
    {
      "cell_type": "code",
      "metadata": {
        "id": "vsx4FJ3djZ9k"
      },
      "source": [
        "import matplotlib.pyplot as plt"
      ],
      "execution_count": null,
      "outputs": []
    },
    {
      "cell_type": "code",
      "metadata": {
        "colab": {
          "base_uri": "https://localhost:8080/",
          "height": 282
        },
        "id": "nk3A6sGPkUDZ",
        "outputId": "2e32d9d3-4e88-4178-a27b-6ee40ce07cc9"
      },
      "source": [
        "#Converting back to original form and plotting the input and predicted data\n",
        "plt.plot(day_new,sc.inverse_transform(df2[1157:]))\n",
        "plt.plot(day_pred,sc.inverse_transform(output))"
      ],
      "execution_count": null,
      "outputs": [
        {
          "output_type": "execute_result",
          "data": {
            "text/plain": [
              "[<matplotlib.lines.Line2D at 0x7f459d3c1890>]"
            ]
          },
          "metadata": {},
          "execution_count": 107
        },
        {
          "output_type": "display_data",
          "data": {
            "image/png": "[encoded data removed]",
            "text/plain": [
              "<Figure size 432x288 with 1 Axes>"
            ]
          },
          "metadata": {
            "needs_background": "light"
          }
        }
      ]
    },
    {
      "cell_type": "code",
      "metadata": {
        "colab": {
          "base_uri": "https://localhost:8080/",
          "height": 282
        },
        "id": "QNOuYfc9k9T6",
        "outputId": "a5205bfd-8b2c-495f-adeb-0e9cf426f915"
      },
      "source": [
        "#Combining the both datasets for plotting\n",
        "df3=df2.tolist()\n",
        "df3.extend(output)\n",
        "plt.plot(df3[1200:])"
      ],
      "execution_count": null,
      "outputs": [
        {
          "output_type": "execute_result",
          "data": {
            "text/plain": [
              "[<matplotlib.lines.Line2D at 0x7f459d543ad0>]"
            ]
          },
          "metadata": {},
          "execution_count": 108
        },
        {
          "output_type": "display_data",
          "data": {
            "image/png": "[encoded data removed]",
            "text/plain": [
              "<Figure size 432x288 with 1 Axes>"
            ]
          },
          "metadata": {
            "needs_background": "light"
          }
        }
      ]
    },
    {
      "cell_type": "code",
      "metadata": {
        "id": "tkKjHIEzlkyR"
      },
      "source": [
        ""
      ],
      "execution_count": null,
      "outputs": []
    },
    {
      "cell_type": "code",
      "metadata": {
        "id": "ymgX3iQSlZML"
      },
      "source": [
        ""
      ],
      "execution_count": null,
      "outputs": []
    }
  ]
}